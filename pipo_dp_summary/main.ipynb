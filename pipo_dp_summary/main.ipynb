{
 "cells": [
  {
   "cell_type": "code",
   "execution_count": 1,
   "metadata": {},
   "outputs": [],
   "source": [
    "import os, sys, pickle\n",
    "import numpy as np\n",
    "from mymodule.sboxes import *\n",
    "from timeit import default_timer as timer\n",
    "from datetime import timedelta"
   ]
  },
  {
   "cell_type": "code",
   "execution_count": 2,
   "metadata": {},
   "outputs": [],
   "source": [
    "import pipo_qm\n",
    "import pipo_struct"
   ]
  },
  {
   "cell_type": "code",
   "execution_count": 3,
   "metadata": {},
   "outputs": [
    {
     "data": {
      "text/plain": [
       "array([  2,  72, 128, 130], dtype=int64)"
      ]
     },
     "execution_count": 3,
     "metadata": {},
     "output_type": "execute_result"
    }
   ],
   "source": [
    "with open(\"front_gen/lambPIPO\", 'rb') as f:\n",
    "    lambs = pickle.load(f)\n",
    "with open(\"front_gen/front_tablePIPO\", 'rb') as f:\n",
    "    front_table = pickle.load(f)\n",
    "lambs"
   ]
  },
  {
   "cell_type": "code",
   "execution_count": 4,
   "metadata": {},
   "outputs": [],
   "source": [
    "setbit0 = lambda k,i: k &( ~ (1<<i))\n",
    "setbit1 = lambda k,i: k | (1<<i)\n",
    "target_col = 0\n",
    "colidxs = [8*i + target_col for i in range(8)]\n",
    "hw_order = sorted([x for x in range(1, 1<<8)], key = lambda x: bin(x).count('1'))\n",
    "sboxsize = 8\n",
    "mask = (1<<64)-1\n",
    "r = 6\n"
   ]
  },
  {
   "cell_type": "code",
   "execution_count": 5,
   "metadata": {},
   "outputs": [],
   "source": [
    "def makeFalse(li, k, bitsize):\n",
    "    zerobits = [1<<x for x in range(bitsize) if (k>>x)&1 == 0]\n",
    "    succs = [k + sum([zerobits[x] for x in range(len(zerobits)) if (idx>>x)&1]) for idx in range(1,1<<len(zerobits))]\n",
    "    for x in succs:\n",
    "        li[x] = False"
   ]
  },
  {
   "cell_type": "code",
   "execution_count": 6,
   "metadata": {},
   "outputs": [],
   "source": [
    "from sboxes import *\n",
    "target = SBOX_DICTIONARY['8-bit']['PIPOS8']"
   ]
  },
  {
   "cell_type": "code",
   "execution_count": 7,
   "metadata": {
    "scrolled": true
   },
   "outputs": [],
   "source": [
    "# start = timer()\n",
    "\n",
    "# milpPIPO = pipo_qm.milpPIPO\n",
    "# # Working code\n",
    "# results = []\n",
    "# for propagated_values in front_table[lambs]:\n",
    "#     # 1-R using front table\n",
    "#     K = set()\n",
    "#     for k in propagated_values: # k : 1 라운드 0 번째 S-box + linear 출력들 중 하나\n",
    "#         temp = mask\n",
    "#         for i in range(8):\n",
    "#             if (k>>i)&1 == 0:\n",
    "#                 temp = setbit0(temp, pipo_qm.BP[8*i])\n",
    "#         K.add(temp)\n",
    "\n",
    "#     result_col = dict()\n",
    "#     # 2 ~ R-1\n",
    "#     for col in range(8): # R 라운드의 S-box 입력의 밸런스 비트를 찾기 위해\n",
    "#         output_monos = np.array([True for x in range(1<<sboxsize)]); output_monos[0] = False #col의 밸런스인 지 결과\n",
    "        \n",
    "#         for indiv in K:\n",
    "#             for outdiv in hw_order:\n",
    "#                 if output_monos[outdiv] == False:\n",
    "#                     continue\n",
    "                \n",
    "#                 outdiv64 = 0\n",
    "#                 for i in range(8):\n",
    "#                     if (outdiv>>i) & 1:\n",
    "#                         outdiv64 = setbit1(outdiv64, 8*i + col)\n",
    "\n",
    "#                 flag = milpPIPO(r-2, indiv, outdiv64)\n",
    "#                 if flag == 'u':\n",
    "#                     output_monos[outdiv] = False\n",
    "#                     makeFalse(output_monos, outdiv, 8) # for x> outdiv, temp[x] = False\n",
    "\n",
    "#         result_col[col] = output_monos\n",
    "#     results.append(result_col)\n",
    "# results = dict(zip(lambs, results))\n",
    "# with open(\"result_qm\", 'wb') as f:\n",
    "#     pickle.dump(results, f)\n",
    "\n",
    "# end = timer()\n",
    "# total_time = timedelta(seconds=end-start)\n",
    "# with open(\"result_qmtime\", 'w') as f:\n",
    "#     f.write(\"WorkingTime: {} sec\".format(timedelta(seconds=end-start)))\n",
    "# print(\"WorkingTime: {} sec\".format(timedelta(seconds=end-start)))"
   ]
  },
  {
   "cell_type": "code",
   "execution_count": 8,
   "metadata": {},
   "outputs": [],
   "source": [
    "# start = timer()\n",
    "\n",
    "# milpPIPO = pipo_struct.milpPIPO\n",
    "# # Working code\n",
    "# results = []\n",
    "# for propagated_values in front_table[lambs]:\n",
    "#     # 1-R using front table\n",
    "#     K = set()\n",
    "#     for k in propagated_values: # k : 1 라운드 0 번째 S-box + linear 출력들 중 하나\n",
    "#         temp = mask\n",
    "#         for i in range(8):\n",
    "#             if (k>>i)&1 == 0:\n",
    "#                 temp = setbit0(temp, pipo_qm.BP[8*i])\n",
    "#         K.add(temp)\n",
    "\n",
    "#     result_col = dict()\n",
    "#     # 2 ~ R-1\n",
    "#     for col in range(8): # R 라운드의 S-box 입력의 밸런스 비트를 찾기 위해\n",
    "#         output_monos = np.array([True for x in range(1<<sboxsize)]); output_monos[0] = False #col의 밸런스인 지 결과\n",
    "        \n",
    "#         for indiv in K:\n",
    "#             for outdiv in hw_order:\n",
    "#                 if output_monos[outdiv] == False:\n",
    "#                     continue\n",
    "                \n",
    "#                 outdiv64 = 0\n",
    "#                 for i in range(8):\n",
    "#                     if (outdiv>>i) & 1:\n",
    "#                         outdiv64 = setbit1(outdiv64, 8*i + col)\n",
    "\n",
    "#                 flag = milpPIPO(r-2, indiv, outdiv64)\n",
    "#                 if flag == 'u':\n",
    "#                     output_monos[outdiv] = False\n",
    "#                     makeFalse(output_monos, outdiv, 8) # for x> outdiv, temp[x] = False\n",
    "\n",
    "#         result_col[col] = output_monos\n",
    "#     results.append(result_col)\n",
    "# results = dict(zip(lambs, results))\n",
    "# with open(\"result_struct\", 'wb') as f:\n",
    "#     pickle.dump(results, f)\n",
    "\n",
    "# end = timer()\n",
    "# total_time = timedelta(seconds=end-start)\n",
    "# with open(\"result_structtime\", 'w') as f:\n",
    "#     f.write(\"WorkingTime: {} sec\".format(timedelta(seconds=end-start)))\n",
    "# print(\"WorkingTime: {} sec\".format(timedelta(seconds=end-start)))"
   ]
  },
  {
   "cell_type": "code",
   "execution_count": 9,
   "metadata": {},
   "outputs": [],
   "source": [
    "# r = 5\n",
    "# start = timer()\n",
    "\n",
    "# milpPIPO = pipo_struct.milpPIPO\n",
    "# # Working code\n",
    "# results = []\n",
    "# for propagated_values in front_table[lambs]:\n",
    "#     # 1-R using front table\n",
    "#     K = set()\n",
    "#     for k in propagated_values: # k : 1 라운드 0 번째 S-box + linear 출력들 중 하나\n",
    "#         temp = mask\n",
    "#         for i in range(8):\n",
    "#             if (k>>i)&1 == 0:\n",
    "#                 temp = setbit0(temp, pipo_qm.BP[8*i])\n",
    "#         K.add(temp)\n",
    "\n",
    "#     result_col = dict()\n",
    "#     # 2 ~ R-1\n",
    "#     for col in range(8): # R 라운드의 S-box 입력의 밸런스 비트를 찾기 위해\n",
    "#         output_monos = np.array([True for x in range(1<<sboxsize)]); output_monos[0] = False #col의 밸런스인 지 결과\n",
    "        \n",
    "#         for indiv in K:\n",
    "#             for outdiv in hw_order:\n",
    "#                 if output_monos[outdiv] == False:\n",
    "#                     continue\n",
    "                \n",
    "#                 outdiv64 = 0\n",
    "#                 for i in range(8):\n",
    "#                     if (outdiv>>i) & 1:\n",
    "#                         outdiv64 = setbit1(outdiv64, 8*i + col)\n",
    "\n",
    "#                 flag = milpPIPO(r-2, indiv, outdiv64)\n",
    "#                 if flag == 'u':\n",
    "#                     output_monos[outdiv] = False\n",
    "#                     makeFalse(output_monos, outdiv, 8) # for x> outdiv, temp[x] = False\n",
    "\n",
    "#         result_col[col] = output_monos\n",
    "#     results.append(result_col)\n",
    "# results = dict(zip(lambs, results))\n",
    "# with open(\"result_struct_r5\", 'wb') as f:\n",
    "#     pickle.dump(results, f)\n",
    "\n",
    "# end = timer()\n",
    "# total_time = timedelta(seconds=end-start)\n",
    "# with open(\"result_structtime_r5\", 'w') as f:\n",
    "#     f.write(\"WorkingTime: {} sec\".format(timedelta(seconds=end-start)))\n",
    "# print(\"WorkingTime: {} sec\".format(timedelta(seconds=end-start)))"
   ]
  },
  {
   "cell_type": "code",
   "execution_count": null,
   "metadata": {},
   "outputs": [],
   "source": []
  }
 ],
 "metadata": {
  "kernelspec": {
   "display_name": "Python 3",
   "language": "python",
   "name": "python3"
  },
  "language_info": {
   "codemirror_mode": {
    "name": "ipython",
    "version": 3
   },
   "file_extension": ".py",
   "mimetype": "text/x-python",
   "name": "python",
   "nbconvert_exporter": "python",
   "pygments_lexer": "ipython3",
   "version": "3.7.8"
  }
 },
 "nbformat": 4,
 "nbformat_minor": 4
}
